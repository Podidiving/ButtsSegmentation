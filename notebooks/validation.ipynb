{
 "cells": [
  {
   "cell_type": "code",
   "execution_count": null,
   "metadata": {},
   "outputs": [],
   "source": [
    "import os\n",
    "\n",
    "\n",
    "os.chdir(\"..\")\n",
    "os.environ[\"CUDA_DEVICE_ORDER\"]=\"PCI_BUS_ID\"\n",
    "os.environ[\"CUDA_VISIBLE_DEVICES\"]=\"0\""
   ]
  },
  {
   "cell_type": "code",
   "execution_count": 2,
   "metadata": {},
   "outputs": [],
   "source": [
    "import numpy as np\n",
    "from PIL import Image\n",
    "import torch\n",
    "from matplotlib import pyplot as plt\n",
    "import segmentation_models_pytorch as smp\n",
    "from tqdm import tqdm\n",
    "import safitty"
   ]
  },
  {
   "cell_type": "code",
   "execution_count": 3,
   "metadata": {},
   "outputs": [],
   "source": [
    "from src import prepare_for_inference, imread, GlobalDice, GlobalIoU\n",
    "from src.dataset import SegmentationDataset"
   ]
  },
  {
   "cell_type": "code",
   "execution_count": 4,
   "metadata": {},
   "outputs": [],
   "source": [
    "device = torch.device(\"cuda\") if torch.cuda.is_available() else torch.device(\"cpu\")\n",
    "\n",
    "setup = prepare_for_inference(\n",
    "    \"./params/pan_eff_net_b0.yml\",\n",
    "    \"./logs/lightning_logs/version_1/checkpoints/epoch=39.ckpt\")\n",
    "\n",
    "model = setup[\"model\"]\n",
    "model = model.to(device)\n",
    "\n",
    "preproc = setup[\"preprocessing_function\"]\n",
    "params = safitty.load(\"params/pan_eff_net_b0.yml\")"
   ]
  },
  {
   "cell_type": "code",
   "execution_count": 5,
   "metadata": {},
   "outputs": [],
   "source": [
    "dataset_params = params[\"dataset\"][\"val\"]\n",
    "dataset_params[\"images\"] = os.listdir(\n",
    "    os.path.join(dataset_params[\"root_path\"], dataset_params[\"images_folder\"]))\n",
    "dataset_params[\"image_transforms\"] = smp.encoders.get_preprocessing_fn(\n",
    "    params[\"model\"][\"params\"][\"encoder_name\"],\n",
    "    pretrained=\"imagenet\",\n",
    ")\n",
    "dataset = SegmentationDataset(**dataset_params)\n",
    "dataloader = torch.utils.data.DataLoader(dataset, **params[\"dataloader\"][\"val\"][\"params\"])"
   ]
  },
  {
   "cell_type": "code",
   "execution_count": 6,
   "metadata": {},
   "outputs": [
    {
     "name": "stderr",
     "output_type": "stream",
     "text": [
      "100%|██████████| 13/13 [00:02<00:00,  4.92it/s]\n"
     ]
    }
   ],
   "source": [
    "dice_meter = GlobalDice()\n",
    "iou_meter = GlobalIoU()\n",
    "for x in tqdm(dataloader):\n",
    "    with torch.no_grad():\n",
    "        image = x[\"image\"].to(device)\n",
    "        mask = x[\"mask\"].to(device)\n",
    "        out = torch.sigmoid(model(image))\n",
    "        dice_meter.update(out, mask)\n",
    "        iou_meter.update(out, mask)"
   ]
  },
  {
   "cell_type": "code",
   "execution_count": 7,
   "metadata": {},
   "outputs": [
    {
     "name": "stdout",
     "output_type": "stream",
     "text": [
      "Dice on Validation: 0.9563417769809763\n",
      "IoU on Validation: 0.916336168189953\n"
     ]
    }
   ],
   "source": [
    "print(f\"Dice on Validation: {dice_meter.get_metric()}\")\n",
    "print(f\"IoU on Validation: {iou_meter.get_metric()}\")"
   ]
  }
 ],
 "metadata": {
  "kernelspec": {
   "display_name": "Python 3",
   "language": "python",
   "name": "python3"
  },
  "language_info": {
   "codemirror_mode": {
    "name": "ipython",
    "version": 3
   },
   "file_extension": ".py",
   "mimetype": "text/x-python",
   "name": "python",
   "nbconvert_exporter": "python",
   "pygments_lexer": "ipython3",
   "version": "3.7.7"
  }
 },
 "nbformat": 4,
 "nbformat_minor": 4
}
