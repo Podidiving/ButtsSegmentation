{
 "cells": [
  {
   "cell_type": "code",
   "execution_count": 2,
   "metadata": {},
   "outputs": [],
   "source": [
    "import os\n",
    "\n",
    "\n",
    "os.chdir(\"..\")\n",
    "os.environ[\"CUDA_DEVICE_ORDER\"]=\"PCI_BUS_ID\"\n",
    "os.environ[\"CUDA_VISIBLE_DEVICES\"]=\"0\""
   ]
  },
  {
   "cell_type": "code",
   "execution_count": 21,
   "metadata": {},
   "outputs": [],
   "source": [
    "from lib import *"
   ]
  },
  {
   "cell_type": "code",
   "execution_count": 50,
   "metadata": {},
   "outputs": [],
   "source": [
    "import numpy as np\n",
    "import pandas as pd\n",
    "from PIL import Image\n",
    "import torch\n",
    "from matplotlib import pyplot as plt\n",
    "import segmentation_models_pytorch as smp\n",
    "from tqdm import tqdm\n",
    "import safitty"
   ]
  },
  {
   "cell_type": "code",
   "execution_count": 4,
   "metadata": {},
   "outputs": [],
   "source": [
    "from src import prepare_for_inference, imread, GlobalDice, GlobalIoU\n",
    "from src.dataset import SegmentationDataset"
   ]
  },
  {
   "cell_type": "code",
   "execution_count": 5,
   "metadata": {},
   "outputs": [
    {
     "name": "stderr",
     "output_type": "stream",
     "text": [
      "Downloading: \"https://github.com/lukemelas/EfficientNet-PyTorch/releases/download/1.0/efficientnet-b0-355c32eb.pth\" to /root/.cache/torch/checkpoints/efficientnet-b0-355c32eb.pth\n"
     ]
    },
    {
     "data": {
      "application/vnd.jupyter.widget-view+json": {
       "model_id": "79e6e9a8c3174217adc9b29a1f1d25ec",
       "version_major": 2,
       "version_minor": 0
      },
      "text/plain": [
       "HBox(children=(FloatProgress(value=0.0, max=21388428.0), HTML(value='')))"
      ]
     },
     "metadata": {},
     "output_type": "display_data"
    },
    {
     "name": "stdout",
     "output_type": "stream",
     "text": [
      "\n"
     ]
    }
   ],
   "source": [
    "device = torch.device(\"cuda\") if torch.cuda.is_available() else torch.device(\"cpu\")\n",
    "\n",
    "setup = prepare_for_inference(\n",
    "    \"./params/pan_eff_net_b0.yml\",\n",
    "    \"./logs/lightning_logs/version_1/checkpoints/epoch=39.ckpt\")\n",
    "\n",
    "model = setup[\"model\"]\n",
    "model = model.to(device)\n",
    "\n",
    "preproc = setup[\"preprocessing_function\"]\n",
    "params = safitty.load(\"params/pan_eff_net_b0.yml\")"
   ]
  },
  {
   "cell_type": "markdown",
   "metadata": {},
   "source": [
    "rle_masks"
   ]
  },
  {
   "cell_type": "code",
   "execution_count": 51,
   "metadata": {},
   "outputs": [
    {
     "name": "stderr",
     "output_type": "stream",
     "text": [
      "100%|██████████| 200/200 [00:07<00:00, 26.64it/s]\n"
     ]
    }
   ],
   "source": [
    "path = \"data/cig_butts/val/images/\"\n",
    "pred = pd.read_csv(\"data/pred_val_template.csv\")\n",
    "\n",
    "for image_name in tqdm(os.listdir(path)):\n",
    "    image = np.array(Image.open(os.path.join(path, image_name)))[:,:,:3]\n",
    "    image = preproc(image).unsqueeze(0)\n",
    "    image = image.to(device)\n",
    "    with torch.no_grad():\n",
    "        pred_mask = torch.sigmoid(model(image)).cpu().numpy()\n",
    "    image_id = int(image_name.split(\".\")[0])\n",
    "    mask = (pred_mask[0][0] > 0.5).astype(np.int8) * 255\n",
    "    rle_mask = encode_rle(mask)\n",
    "    pred.loc[image_id, \"rle_mask\"] = rle_mask"
   ]
  },
  {
   "cell_type": "code",
   "execution_count": 53,
   "metadata": {},
   "outputs": [],
   "source": [
    "pred.to_csv(\"data/pred_val_template.csv\", index=False)"
   ]
  },
  {
   "cell_type": "markdown",
   "metadata": {},
   "source": [
    "HTML render"
   ]
  },
  {
   "cell_type": "code",
   "execution_count": 54,
   "metadata": {},
   "outputs": [
    {
     "name": "stderr",
     "output_type": "stream",
     "text": [
      "100%|██████████| 10/10 [00:00<00:00, 30.35it/s]\n"
     ]
    }
   ],
   "source": [
    "path = \"data/cig_butts/real_test/\"\n",
    "image_names = os.listdir(path)\n",
    "pred_masks = []\n",
    "\n",
    "for image_name in tqdm(image_names):\n",
    "    image = np.array(Image.open(os.path.join(path, image_name)))[:,:,:3]\n",
    "    image = preproc(image).unsqueeze(0)\n",
    "    image = image.to(device)\n",
    "    with torch.no_grad():\n",
    "        pred_mask = torch.sigmoid(model(image)).cpu().numpy()\n",
    "    mask = (pred_mask[0][0] > 0.5).astype(np.int8) * 255\n",
    "    pred_masks.append(mask)\n",
    "    \n",
    "_ = get_html(\n",
    "    [os.path.join(path, image_name) for image_name in image_names],\n",
    "    pred_masks,\n",
    "    path_to_save=\"results/example\"\n",
    ")"
   ]
  },
  {
   "cell_type": "markdown",
   "metadata": {},
   "source": [
    "---"
   ]
  }
 ],
 "metadata": {
  "kernelspec": {
   "display_name": "Python 3",
   "language": "python",
   "name": "python3"
  },
  "language_info": {
   "codemirror_mode": {
    "name": "ipython",
    "version": 3
   },
   "file_extension": ".py",
   "mimetype": "text/x-python",
   "name": "python",
   "nbconvert_exporter": "python",
   "pygments_lexer": "ipython3",
   "version": "3.7.7"
  }
 },
 "nbformat": 4,
 "nbformat_minor": 4
}
